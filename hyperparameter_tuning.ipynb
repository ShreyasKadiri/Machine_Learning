{
  "nbformat": 4,
  "nbformat_minor": 0,
  "metadata": {
    "colab": {
      "name": "hyperparameter_tuning.ipynb",
      "provenance": [],
      "collapsed_sections": [],
      "authorship_tag": "ABX9TyMayGLHRARa0km9tfPd03op",
      "include_colab_link": true
    },
    "kernelspec": {
      "name": "python3",
      "display_name": "Python 3"
    },
    "language_info": {
      "name": "python"
    }
  },
  "cells": [
    {
      "cell_type": "markdown",
      "metadata": {
        "id": "view-in-github",
        "colab_type": "text"
      },
      "source": [
        "<a href=\"https://colab.research.google.com/github/ShreyasKadiri/Machine_Learning/blob/main/hyperparameter_tuning.ipynb\" target=\"_parent\"><img src=\"https://colab.research.google.com/assets/colab-badge.svg\" alt=\"Open In Colab\"/></a>"
      ]
    },
    {
      "cell_type": "code",
      "metadata": {
        "id": "3EQgLKOPTat2"
      },
      "source": [
        "import pandas as pd\n",
        "import numpy as np\n",
        "from sklearn import ensemble\n",
        "from sklearn import metrics\n",
        "from sklearn import model_selection"
      ],
      "execution_count": null,
      "outputs": []
    },
    {
      "cell_type": "code",
      "metadata": {
        "id": "RUmROc84W-uT"
      },
      "source": [
        "if __name__ == \"__main__\":\n",
        "  df = pd.read_csv(\"train.csv\")\n",
        "  X = df.drop(\"price_range\", axis = 1).values\n",
        "  y = df.price_range.values"
      ],
      "execution_count": null,
      "outputs": []
    },
    {
      "cell_type": "code",
      "metadata": {
        "id": "jU2ap4vPXYzg"
      },
      "source": [
        "#Implementing a random forest classifier\n",
        "classifier =  ensemble.RandomForestClassifier(n_jobs=-1)\n",
        "parameters_to_optimize = {\n",
        "    \"n_estimators\" : [100, 200, 300, 400],\n",
        "    \"max_depth\" : [1, 3 , 5, 7],\n",
        "    \"criterion\" : [\"gini\", \"entropy\"] \n",
        "}"
      ],
      "execution_count": null,
      "outputs": []
    },
    {
      "cell_type": "code",
      "metadata": {
        "id": "RcpK27KRYlBP"
      },
      "source": [
        "#?model_selection.GridSearchCV()"
      ],
      "execution_count": null,
      "outputs": []
    },
    {
      "cell_type": "code",
      "metadata": {
        "id": "JZ5TmU5rYVey"
      },
      "source": [
        "#Performing Gridsearch with cross validation\n",
        "model = model_selection.GridSearchCV(\n",
        "    estimator=classifier, \n",
        "    param_grid=parameters_to_optimize,\n",
        "    scoring = \"accuracy\",\n",
        "    verbose = 10,\n",
        "    n_jobs=1,\n",
        "    cv =5\n",
        "     )"
      ],
      "execution_count": null,
      "outputs": []
    },
    {
      "cell_type": "code",
      "metadata": {
        "id": "tJ7rU3XOZSWt"
      },
      "source": [
        "model.fit(X,y)"
      ],
      "execution_count": null,
      "outputs": []
    },
    {
      "cell_type": "code",
      "metadata": {
        "id": "joBrxmPWa_Hc"
      },
      "source": [
        "print(model.best_score_)\n",
        "print(model.best_estimator_.get_params())"
      ],
      "execution_count": null,
      "outputs": []
    },
    {
      "cell_type": "code",
      "metadata": {
        "id": "N1cEO9rGctUi"
      },
      "source": [
        "#RandomizedSearchCV"
      ],
      "execution_count": null,
      "outputs": []
    },
    {
      "cell_type": "code",
      "metadata": {
        "id": "mm_XSk8HctfD"
      },
      "source": [
        "import pandas as pd\n",
        "import numpy as np\n",
        "from sklearn import ensemble\n",
        "from sklearn import metrics\n",
        "from sklearn import model_selection"
      ],
      "execution_count": null,
      "outputs": []
    },
    {
      "cell_type": "code",
      "metadata": {
        "id": "M2guQsBZczT_"
      },
      "source": [
        "if __name__ == \"__main__\":\n",
        "  df = pd.read_csv(\"train.csv\")\n",
        "  X = df.drop(\"price_range\", axis = 1).values\n",
        "  y = df.price_range.values"
      ],
      "execution_count": null,
      "outputs": []
    },
    {
      "cell_type": "code",
      "metadata": {
        "id": "ln2_T7xGc2Qt"
      },
      "source": [
        "#Implementing a random forest classifier\n",
        "classifier =  ensemble.RandomForestClassifier(n_jobs=-1)\n",
        "parameters_to_optimize = {\n",
        "    \"n_estimators\" : np.arange(100, 1500, 100),\n",
        "    \"max_depth\" : np.arange(1, 20),\n",
        "    \"criterion\" : [\"gini\", \"entropy\"] \n",
        "}"
      ],
      "execution_count": null,
      "outputs": []
    },
    {
      "cell_type": "code",
      "metadata": {
        "id": "K8KhtSh9c7Xz"
      },
      "source": [
        "#?model_selection.RandomizedSearchCV()"
      ],
      "execution_count": null,
      "outputs": []
    },
    {
      "cell_type": "code",
      "metadata": {
        "id": "8V9TWC0Fc-Wf"
      },
      "source": [
        "#Performing RandomizedSearchCv with cross validation\n",
        "model = model_selection.RandomizedSearchCV(\n",
        "    estimator=classifier, \n",
        "    param_distributions=parameters_to_optimize,\n",
        "    n_iter = 10,\n",
        "    scoring = \"accuracy\",\n",
        "    verbose = 10,\n",
        "    n_jobs=1,\n",
        "    cv =5\n",
        "     )"
      ],
      "execution_count": null,
      "outputs": []
    },
    {
      "cell_type": "code",
      "metadata": {
        "id": "7pLiq3c8dCxA"
      },
      "source": [
        "model.fit(X,y)"
      ],
      "execution_count": null,
      "outputs": []
    },
    {
      "cell_type": "code",
      "metadata": {
        "id": "CTOucEJ5dC8M"
      },
      "source": [
        "print(model.best_score_)\n",
        "print(model.best_estimator_.get_params())"
      ],
      "execution_count": null,
      "outputs": []
    },
    {
      "cell_type": "code",
      "metadata": {
        "id": "gPnA2FVbh73Q"
      },
      "source": [
        "#Creating pipelines"
      ],
      "execution_count": null,
      "outputs": []
    },
    {
      "cell_type": "code",
      "metadata": {
        "id": "POXwQPFMh9um"
      },
      "source": [
        "import pandas as pd\n",
        "import numpy as np\n",
        "from sklearn import ensemble\n",
        "from sklearn import metrics\n",
        "from sklearn import model_selection\n",
        "from sklearn import decomposition\n",
        "from sklearn import pipeline\n",
        "from sklearn import preprocessing"
      ],
      "execution_count": null,
      "outputs": []
    },
    {
      "cell_type": "code",
      "metadata": {
        "id": "5QoVG9-EiBBc"
      },
      "source": [
        "if __name__ == \"__main__\":\n",
        "  df = pd.read_csv(\"train.csv\")\n",
        "  X = df.drop(\"price_range\", axis = 1).values\n",
        "  y = df.price_range.values"
      ],
      "execution_count": null,
      "outputs": []
    },
    {
      "cell_type": "code",
      "metadata": {
        "id": "OKWhMaCHjfN7"
      },
      "source": [
        "scl = preprocessing.StandardScaler()\n",
        "pca = decomposition.PCA()\n",
        "rf =  ensemble.RandomForestClassifier(n_jobs=-1)\n",
        "\n",
        "classifier = pipeline.Pipeline([(\"scaling\" : scl), (\"pca\", pca), (\"rf\", rf)])\n",
        "parameters_to_optimize = {\n",
        "    \"pca__n_components\" : np.arange(5,10),\n",
        "    \"rf__n_estimators\" : np.arange(100, 1500, 100),\n",
        "    \"rf__max_depth\" : np.arange(1, 20),\n",
        "    \"rf__criterion\" : [\"gini\", \"entropy\"] \n",
        "}"
      ],
      "execution_count": null,
      "outputs": []
    },
    {
      "cell_type": "code",
      "metadata": {
        "id": "eQCF0A6Fjxuu"
      },
      "source": [
        "#Performing RandomizedSearchCv with cross validation\n",
        "model = model_selection.RandomizedSearchCV(\n",
        "    estimator=classifier, \n",
        "    param_distributions=parameters_to_optimize,\n",
        "    n_iter = 10,\n",
        "    scoring = \"accuracy\",\n",
        "    verbose = 10,\n",
        "    n_jobs=1,\n",
        "    cv =5\n",
        "     )"
      ],
      "execution_count": null,
      "outputs": []
    },
    {
      "cell_type": "code",
      "metadata": {
        "id": "rP1v3vc8j3Jd"
      },
      "source": [
        "model.fit(X,y)\n",
        "print(model.best_score_)\n",
        "print(model.best_estimator_.get_params())"
      ],
      "execution_count": null,
      "outputs": []
    }
  ]
}